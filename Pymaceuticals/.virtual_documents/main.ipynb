





# Dependencies and Setup
import os
import matplotlib.pyplot as plt
import pandas as pd
import numpy as np
import scipy.stats as st
from scipy.stats import sem
from scipy.stats import linregress

pd.set_option('display.width', 1000) # Set output width to 1000 to prevent dataframe displayed split

# Study data files
mouse_metadata_path = os.path.join('data', 'Mouse_metadata.csv')
study_results_path = os.path.join('data', 'Study_results.csv')

# Read the mouse data and the study results
mouse_metadata = pd.read_csv(mouse_metadata_path)
study_results = pd.read_csv(study_results_path)

# Combine the data into a single DataFrame
df = pd.merge(mouse_metadata, study_results, how='right', on='Mouse ID')

# Display the data table for preview
print(f'Merged DataFrame: ')
print(df)


# Checking the number of mice.
print(f"Total number of mice in study: {df['Mouse ID'].nunique()}")


# Our data should be uniquely identified by Mouse ID and Timepoint
# Get the duplicate mice by ID number that shows up for Mouse ID and Timepoint.
duplicate_mice = df[df.duplicated(subset=['Mouse ID', 'Timepoint'], keep=False)]
unique_duplicated_mouse_IDs = duplicate_mice['Mouse ID'].unique()
duplicated_mouse = unique_duplicated_mouse_IDs[0]
# Print the duplicate mice
print('Duplicated mouse IDs found in DataFrame:')
print(duplicated_mouse)


# Optional: Get all the data for the duplicate mouse ID.
duplicated_mouse_id_data = df.loc[df['Mouse ID'] == duplicated_mouse]
print(f'All data for duplicated mouse ID: {duplicated_mouse}')
duplicated_mouse_id_data


# Create a clean DataFrame by dropping the duplicate mouse by its ID.
clean_df = df[df['Mouse ID'] != duplicated_mouse]
print(f'Clean DataFrame without duplicated mouse ID data (Mouse {duplicated_mouse})')
clean_df


# Checking the number of mice in the clean DataFrame.
mouse_count = clean_df['Mouse ID'].nunique()
print(f'Number of mice after removing data with duplicates: {mouse_count}')





# Generate a summary statistics table of mean, median, variance, standard deviation, and SEM of the tumor volume for each regimen
# Calculate mean
regimen_mean = clean_df.groupby('Drug Regimen')['Tumor Volume (mm3)'].mean()

# Calculate median
regimen_median = clean_df.groupby('Drug Regimen')['Tumor Volume (mm3)'].median()

# Calculate variance
regimen_variance = clean_df.groupby('Drug Regimen')['Tumor Volume (mm3)'].var()

# Calculate standard deviation
regimen_std_dev = clean_df.groupby('Drug Regimen')['Tumor Volume (mm3)'].std()

# Calculate SEM
regimen_sem = clean_df.groupby('Drug Regimen')['Tumor Volume (mm3)'].apply(sem)

# Use groupby and summary statistical methods to calculate the following properties of each drug regimen:
# mean, median, variance, standard deviation, and SEM of the tumor volume.
# Assemble the resulting series into a single summary DataFrame.
regimen_summary = pd.DataFrame({'Tumor Vol Mean': regimen_mean,
                                'Tumor Vol Median': regimen_median,
                                'Tumor Vol Variance': regimen_variance,
                                'Tumor Vol Std Dev': regimen_std_dev,
                                'Tumor Vol SEM': regimen_sem})

print('Summary Statistics generated with groupby:')
regimen_summary



# A more advanced method to generate a summary statistics table of mean, median, variance, standard deviation,
# and SEM of the tumor volume for each regimen (only one method is required in the solution)

# Using the aggregation method, produce the same summary statistics in a single line
regimen_agg = clean_df.groupby('Drug Regimen')['Tumor Volume (mm3)'].agg(
    Tumor_Vol_Mean='mean',
    Tumor_Vol_Median='median',
    Tumor_Vol_Variance='var',
    Tumor_Vol_Std_Dev='std',
    Tumor_Vol_SEM=lambda x: sem(x))

print('Summary Statistics generated with aggregation:')
regimen_agg





# Generate a bar plot showing the total number of rows (Mouse ID/Timepoints) for each drug regimen using Pandas.
regimen_df = clean_df.groupby('Drug Regimen')['Mouse ID'].count()

print('Bar Chart generated using Pandas:')
regimen_df.plot(x=regimen_df.index, y=regimen_df, kind='bar', title='Number of Data Points per Drug Regimen', 
                xlabel='Drug Regimen', ylabel='Number of Data Points', figsize=(10, 5), rot=60);



# Generate a bar plot showing the total number of rows (Mouse ID/Timepoints) for each drug regimen using pyplot.
print('Bar Chart generated using pyplot:')

plt.figure(figsize=(10, 5))
plt.bar(regimen_df.index, regimen_df)
plt.xlabel('Drug Regimen')
plt.ylabel('Number of Data Points')
plt.title('Number of Data Points per Drug Regimen')
plt.xticks(rotation=60)
plt.show()


# Generate a pie chart, using Pandas, showing the distribution of unique female versus male mice used in the study
print('Pie Chart generated using Pandas:')

# Get the unique mice with their sex
mouse_sex_counts = clean_df.drop_duplicates(subset='Mouse ID')['Sex'].value_counts()

# Make the pie chart
mouse_sex_counts.plot(kind='pie', 
                      title='Distribution of Unique Female vs. Male Mice', 
                      autopct='%1.1f%%', 
                      labels=None,
                      ylabel='', 
                      legend=True,
                      explode=(0.03, 0),
                      shadow=True);


# Generate a pie chart, using pyplot, showing the distribution of unique female versus male mice used in the study
print('Pie Chart generated using pyplot:')

# Get the unique mice with their gender
# use mouse_sex_counts from above
plt.close()
# Make the pie chart
plt.pie(mouse_sex_counts, 
        labels=mouse_sex_counts.index, 
        autopct='%1.1f%%',
        explode=(0.03, 0),
        shadow=True)

plt.title('Distribution of Unique Female vs. Male Mice')
plt.legend(title='', loc='upper right')
plt.gca().set_yticklabels([])
plt.ylabel("")
plt.show()





# Calculate the final tumor volume of each mouse across four of the treatment regimens:
# Capomulin, Ramicane, Infubinol, and Ceftamin

# Start by getting the last (greatest) timepoint for each mouse
last_timepoint_by_mouse = study_results.loc[study_results.groupby('Mouse ID')['Timepoint'].idxmax()]
last_timepoint_by_mouse = last_timepoint_by_mouse.reset_index()
last_timepoint_by_mouse = last_timepoint_by_mouse[['Mouse ID', 'Timepoint']]
print("Data for each Mouse ID's final timepoint:")
print(last_timepoint_by_mouse)

# Merge this group df with the original DataFrame to get the tumor volume at the last timepoint
final_tumor_vol_with_regimen = pd.merge(last_timepoint_by_mouse, df, how='inner', on=['Mouse ID', 'Timepoint'])
box_df = final_tumor_vol_with_regimen[['Tumor Volume (mm3)', 'Drug Regimen']]

print()
print()
print('Tumor Volume and Drug Regimen at final timepoint for each mouse:')
print(box_df)


# Put treatments into a list for for loop (and later for plot labels)
treatment_labels = ['Capomulin', 'Ramicane', 'Infubinol', 'Ceftamin']

# Create empty list to fill with tumor vol data (for plotting)
tumor_volumes = []
# outliers = []

# Calculate the IQR and quantitatively determine if there are any potential outliers.
for drug in treatment_labels:
    outliers = []
    # Locate the rows which contain mice on each drug and get the tumor volumes
    tumor_vol_data = box_df.loc[box_df['Drug Regimen'] == drug, 'Tumor Volume (mm3)'].astype(float).tolist()
    
    # add subset
    tumor_volumes.append(tumor_vol_data)

    # Convert to a Pandas Series
    tumor_vol_series = pd.Series(tumor_vol_data)
    
    # Determine quartiles
    quartiles = tumor_vol_series.quantile([0.25, 0.5, 0.75])
    
    # Determine outliers using upper and lower bounds
    lowerq = quartiles[0.25]
    upperq = quartiles[0.75]
    iqr = upperq - lowerq
    
    lower_bound = lowerq - (1.5 * iqr)
    upper_bound = upperq + (1.5 * iqr)
    
    for volume in tumor_vol_data:
        if volume < lower_bound or volume > upper_bound:
            outliers.append(volume)
            
    output = f'''*******************
Drug Reginmen: {drug}
Upper Bound: {upper_bound}
Lower Bound: {lower_bound}
IQR: {iqr}
Outliers: {outliers}
'''
    print(output)



# Generate a box plot that shows the distribution of the tumor volume for each treatment group.
fig1, ax1 = plt.subplots()
ax1.set_title('Tumor Volume for Drug Regimens')
ax1.set_ylabel('Tumor Volume (mm3)')
flierprops = dict(marker='+', 
                  color='red')
ax1.boxplot(tumor_volumes, 
            labels=treatment_labels, 
            flierprops=flierprops)
plt.show()





# Generate a line plot of tumor volume vs. time point for a single mouse treated with Capomulin
capomulin = clean_df.loc[clean_df['Drug Regimen'] == 'Capomulin', ['Mouse ID', 'Tumor Volume (mm3)', 'Timepoint']]
# randomly select a mouse
capomulin_mouse = capomulin.sample(n=1)['Mouse ID']  # ran and selected Mouse ID s185

# Data for Mouse s185
capomulin_mouse_data = capomulin.loc[capomulin['Mouse ID'] == 's185', 
                                     ['Tumor Volume (mm3)', 'Timepoint']]
capomulin_mouse_data.plot(x='Timepoint', 
                          y='Tumor Volume (mm3)', 
                          kind='line', 
                          figsize=(10, 5), 
                          title='Tumor Volume vs Timepoint for Mouse s185 with Capomulin drug regimen',
                          legend=False)
plt.xlabel('Timepoint')
plt.ylabel('Tumor Volume (mm3)')
plt.show()


# Generate a scatter plot of mouse weight vs. the average observed tumor volume for the entire Capomulin regimen
# capomulin_vol = clean_df.loc[clean_df['Drug Regimen'] == 'Capomulin', ['Mouse ID', 'Tumor Volume (mm3)', 'Weight (g)', 'Timepoint']]

capomulin = clean_df[clean_df['Drug Regimen'] == 'Capomulin']

# Calculate the average tumor volume for each mouse weight
average_tumor_volume = capomulin.groupby('Mouse ID')[['Weight (g)', 'Tumor Volume (mm3)']].mean()

# Create the scatter plot
plt.scatter(average_tumor_volume['Weight (g)'], 
            average_tumor_volume['Tumor Volume (mm3)'], 
            color='blue')
plt.xlabel('Weight (g)')
plt.ylabel('Average Tumor Volume (mm3)')
plt.title('Mouse Weight vs. Average Tumor Vol for Capomulin')
plt.grid()
plt.show()

# capomulin_weight = clean_df.loc[clean_df['Drug Regimen'] == 'Capomulin', ['Tumor Volume (mm3)', 'Weight (g)']]
# average_vol = capomulin_weight['Tumor Volume (mm3)'].mean()
# capomulin_weight.plot.scatter(x='Tumor Volume (mm3)', y='Weight (g)')
# average_vol
# capomulin_weight





# Calculate the correlation coefficient and a linear regression model
# for mouse weight and average observed tumor volume for the entire Capomulin regimen

correlation = capomulin['Weight (g)'].corr(capomulin['Tumor Volume (mm3)'])
print(f'Correlation coefficient: {correlation}')


slope, intercept, r_value, p_value, std_err = st.linregress(average_tumor_volume['Weight (g)'], 
                                                            average_tumor_volume['Tumor Volume (mm3)'])
print(f"Slope: {slope}")
print(f"Intercept: {intercept}")
print(f"R-squared: {r_value**2}")
print(f'Regression: y = {slope:.3f}x + {intercept:.3f}')

regression_line = slope * average_tumor_volume['Weight (g)'] + intercept
slope = round(slope, 2)
intercept = round(intercept, 2)
plt.scatter(average_tumor_volume['Weight (g)'], average_tumor_volume['Tumor Volume (mm3)'], color='blue')
plt.plot(average_tumor_volume['Weight (g)'], regression_line, 
         color='green', 
         label='Regression: y = ' + str(slope) + 'x + ' + str(intercept))
plt.title('Mouse Weight vs. Average Tumor Vol for Capomulin')
plt.xlabel('Average Weight (g)')
plt.ylabel('Tumor Volume (mm3)')
plt.legend()
plt.show()



